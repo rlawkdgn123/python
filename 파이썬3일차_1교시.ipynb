{
  "nbformat": 4,
  "nbformat_minor": 0,
  "metadata": {
    "colab": {
      "name": "파이썬3일차_1교시.ipynb",
      "provenance": [],
      "authorship_tag": "ABX9TyPbNusl8K5J0usqVwXTLKHu",
      "include_colab_link": true
    },
    "kernelspec": {
      "name": "python3",
      "display_name": "Python 3"
    }
  },
  "cells": [
    {
      "cell_type": "markdown",
      "metadata": {
        "id": "view-in-github",
        "colab_type": "text"
      },
      "source": [
        "<a href=\"https://colab.research.google.com/github/rlawkdgn123/python/blob/master/%ED%8C%8C%EC%9D%B4%EC%8D%AC3%EC%9D%BC%EC%B0%A8_1%EA%B5%90%EC%8B%9C.ipynb\" target=\"_parent\"><img src=\"https://colab.research.google.com/assets/colab-badge.svg\" alt=\"Open In Colab\"/></a>"
      ]
    },
    {
      "cell_type": "code",
      "metadata": {
        "id": "QGrwzt8c4RCI",
        "colab_type": "code",
        "colab": {}
      },
      "source": [
        ""
      ],
      "execution_count": 0,
      "outputs": []
    },
    {
      "cell_type": "markdown",
      "metadata": {
        "id": "ukcfYEee4bhv",
        "colab_type": "text"
      },
      "source": [
        "# dic = {1:'홍석찬' 2:'최경민' 3:30221}\n"
      ]
    },
    {
      "cell_type": "code",
      "metadata": {
        "id": "KigBVw_t4o_4",
        "colab_type": "code",
        "colab": {}
      },
      "source": [
        "dic = {'멋쟁이':'홍석찬','핵인싸':'최경민',3:30221}"
      ],
      "execution_count": 0,
      "outputs": []
    },
    {
      "cell_type": "code",
      "metadata": {
        "id": "Ytlo2SAa40Eu",
        "colab_type": "code",
        "colab": {
          "base_uri": "https://localhost:8080/",
          "height": 35
        },
        "outputId": "005ec6fa-f136-40ca-8b56-c2cc067c7094"
      },
      "source": [
        "dic['멋쟁이'],dic['핵인싸'],dic[3]"
      ],
      "execution_count": 20,
      "outputs": [
        {
          "output_type": "execute_result",
          "data": {
            "text/plain": [
              "('홍석찬', '최경민', 30221)"
            ]
          },
          "metadata": {
            "tags": []
          },
          "execution_count": 20
        }
      ]
    },
    {
      "cell_type": "code",
      "metadata": {
        "id": "gYKLtO-f6Tes",
        "colab_type": "code",
        "colab": {
          "base_uri": "https://localhost:8080/",
          "height": 35
        },
        "outputId": "21b4c7f5-71f7-4ae5-831d-b32f81380ee3"
      },
      "source": [
        "b=[1,2,3,4,5]\n",
        "\n",
        "type(b)\n",
        "b[0]=8\n",
        "b"
      ],
      "execution_count": 9,
      "outputs": [
        {
          "output_type": "execute_result",
          "data": {
            "text/plain": [
              "[8, 2, 3, 4, 5]"
            ]
          },
          "metadata": {
            "tags": []
          },
          "execution_count": 9
        }
      ]
    },
    {
      "cell_type": "code",
      "metadata": {
        "id": "3Ro81wdC6e2H",
        "colab_type": "code",
        "colab": {
          "base_uri": "https://localhost:8080/",
          "height": 35
        },
        "outputId": "6e99733a-eb46-41cb-e342-3d9d0e379756"
      },
      "source": [
        "c=1,2,3,4,5\n",
        "type(c)\n"
      ],
      "execution_count": 13,
      "outputs": [
        {
          "output_type": "execute_result",
          "data": {
            "text/plain": [
              "tuple"
            ]
          },
          "metadata": {
            "tags": []
          },
          "execution_count": 13
        }
      ]
    },
    {
      "cell_type": "markdown",
      "metadata": {
        "id": "neaf6Zt8-B33",
        "colab_type": "text"
      },
      "source": [
        ""
      ]
    },
    {
      "cell_type": "markdown",
      "metadata": {
        "id": "b3COqBgQ6tIS",
        "colab_type": "text"
      },
      "source": [
        "소괄호나 괄호를 안했을 시 배열이 오류가 난다.(튜플)\n",
        "오류를 없애기 위해선 대괄호[]로  바꿔야 한다.\n"
      ]
    },
    {
      "cell_type": "code",
      "metadata": {
        "id": "L13PuMZN9pnO",
        "colab_type": "code",
        "colab": {
          "base_uri": "https://localhost:8080/",
          "height": 71
        },
        "outputId": "0d8516d4-cf8c-4968-eea2-a8e503ee14d4"
      },
      "source": [
        "id = input('id를 입력 >>> ')\n",
        "print(id+'님 ! 안녕하세요')\n",
        "print(id,'님 ! 안녕하세요')"
      ],
      "execution_count": 21,
      "outputs": [
        {
          "output_type": "stream",
          "text": [
            "id를 입력 >>> 히히\n",
            "히히님 ! 안녕하세요\n",
            "히히 님 ! 안녕하세요\n"
          ],
          "name": "stdout"
        }
      ]
    }
  ]
}