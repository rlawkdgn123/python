{
  "nbformat": 4,
  "nbformat_minor": 0,
  "metadata": {
    "colab": {
      "name": "9일차 과제.ipynb",
      "provenance": [],
      "collapsed_sections": [],
      "include_colab_link": true
    },
    "kernelspec": {
      "name": "python3",
      "display_name": "Python 3"
    }
  },
  "cells": [
    {
      "cell_type": "markdown",
      "metadata": {
        "id": "view-in-github",
        "colab_type": "text"
      },
      "source": [
        "<a href=\"https://colab.research.google.com/github/rlawkdgn123/python/blob/master/9%EC%9D%BC%EC%B0%A8_%EA%B3%BC%EC%A0%9C.ipynb\" target=\"_parent\"><img src=\"https://colab.research.google.com/assets/colab-badge.svg\" alt=\"Open In Colab\"/></a>"
      ]
    },
    {
      "cell_type": "code",
      "metadata": {
        "id": "2kJJOKkcIdx0",
        "colab_type": "code",
        "colab": {}
      },
      "source": [
        "import pandas as pd\n",
        "import glob\n",
        "import matplotlib.pyplot as plt"
      ],
      "execution_count": 0,
      "outputs": []
    },
    {
      "cell_type": "code",
      "metadata": {
        "id": "Hcy9EAD3JFgm",
        "colab_type": "code",
        "colab": {}
      },
      "source": [
        "path = '/content/sample_data'\n",
        "for FileName in glob.glob(path+'*.csv'):\n",
        "  print(FileName)"
      ],
      "execution_count": 0,
      "outputs": []
    },
    {
      "cell_type": "code",
      "metadata": {
        "id": "4ny1rHPfJSFm",
        "colab_type": "code",
        "outputId": "51770bb6-fd9e-4aa7-fb77-681b7cfbde87",
        "colab": {
          "base_uri": "https://localhost:8080/",
          "height": 82
        }
      },
      "source": [
        "files = '/content/drive/My Drive/Colab Notebooks/Data/animal-crossing/'\n",
        "files_list = glob.glob(files+'*.csv')\n",
        "files_list"
      ],
      "execution_count": 0,
      "outputs": [
        {
          "output_type": "execute_result",
          "data": {
            "text/plain": [
              "['/content/drive/My Drive/Colab Notebooks/Data/animal-crossing/critic.csv',\n",
              " '/content/drive/My Drive/Colab Notebooks/Data/animal-crossing/villagers.csv',\n",
              " '/content/drive/My Drive/Colab Notebooks/Data/animal-crossing/user_reviews.csv',\n",
              " '/content/drive/My Drive/Colab Notebooks/Data/animal-crossing/items.csv']"
            ]
          },
          "metadata": {
            "tags": []
          },
          "execution_count": 33
        }
      ]
    },
    {
      "cell_type": "code",
      "metadata": {
        "id": "9zeCpXfrJ9GJ",
        "colab_type": "code",
        "colab": {}
      },
      "source": [
        "A_data = '/content/drive/My Drive/Colab Notebooks/Data/animal-crossing/items.csv'"
      ],
      "execution_count": 0,
      "outputs": []
    },
    {
      "cell_type": "code",
      "metadata": {
        "id": "huwpQYqRKIop",
        "colab_type": "code",
        "outputId": "f334b687-7ab9-42cc-bbbb-4c2620f031ae",
        "colab": {
          "base_uri": "https://localhost:8080/",
          "height": 537
        }
      },
      "source": [
        "df = pd.read_csv(A_data, sep=',')\n",
        "a = pd.to_numeric(df['sell_value'])\n",
        "b = pd.to_numeric(df['buy_value'])\n",
        "df.sort_values('sell_value', ascending=False)"
      ],
      "execution_count": 0,
      "outputs": [
        {
          "output_type": "execute_result",
          "data": {
            "text/html": [
              "<div>\n",
              "<style scoped>\n",
              "    .dataframe tbody tr th:only-of-type {\n",
              "        vertical-align: middle;\n",
              "    }\n",
              "\n",
              "    .dataframe tbody tr th {\n",
              "        vertical-align: top;\n",
              "    }\n",
              "\n",
              "    .dataframe thead th {\n",
              "        text-align: right;\n",
              "    }\n",
              "</style>\n",
              "<table border=\"1\" class=\"dataframe\">\n",
              "  <thead>\n",
              "    <tr style=\"text-align: right;\">\n",
              "      <th></th>\n",
              "      <th>num_id</th>\n",
              "      <th>id</th>\n",
              "      <th>name</th>\n",
              "      <th>category</th>\n",
              "      <th>orderable</th>\n",
              "      <th>sell_value</th>\n",
              "      <th>sell_currency</th>\n",
              "      <th>buy_value</th>\n",
              "      <th>buy_currency</th>\n",
              "      <th>sources</th>\n",
              "      <th>customizable</th>\n",
              "      <th>recipe</th>\n",
              "      <th>recipe_id</th>\n",
              "      <th>games_id</th>\n",
              "      <th>id_full</th>\n",
              "      <th>image_url</th>\n",
              "    </tr>\n",
              "  </thead>\n",
              "  <tbody>\n",
              "    <tr>\n",
              "      <th>3453</th>\n",
              "      <td>5653</td>\n",
              "      <td>royal-crown</td>\n",
              "      <td>Royal Crown</td>\n",
              "      <td>Hats</td>\n",
              "      <td>NaN</td>\n",
              "      <td>300000.0</td>\n",
              "      <td>bells</td>\n",
              "      <td>1200000.0</td>\n",
              "      <td>bells</td>\n",
              "      <td>NaN</td>\n",
              "      <td>NaN</td>\n",
              "      <td>NaN</td>\n",
              "      <td>NaN</td>\n",
              "      <td>nh</td>\n",
              "      <td>item-royal-crown</td>\n",
              "      <td>https://villagerdb.com/images/items/full/royal...</td>\n",
              "    </tr>\n",
              "    <tr>\n",
              "      <th>3394</th>\n",
              "      <td>5558</td>\n",
              "      <td>robot-hero</td>\n",
              "      <td>Robot Hero</td>\n",
              "      <td>Furniture</td>\n",
              "      <td>False</td>\n",
              "      <td>250000.0</td>\n",
              "      <td>bells</td>\n",
              "      <td>NaN</td>\n",
              "      <td>NaN</td>\n",
              "      <td>NaN</td>\n",
              "      <td>True</td>\n",
              "      <td>30.0</td>\n",
              "      <td>rusted-part</td>\n",
              "      <td>nh</td>\n",
              "      <td>item-robot-hero</td>\n",
              "      <td>https://villagerdb.com/images/items/thumb/robo...</td>\n",
              "    </tr>\n",
              "    <tr>\n",
              "      <th>1028</th>\n",
              "      <td>1566</td>\n",
              "      <td>crown</td>\n",
              "      <td>Crown</td>\n",
              "      <td>Hats</td>\n",
              "      <td>True</td>\n",
              "      <td>250000.0</td>\n",
              "      <td>bells</td>\n",
              "      <td>1000000.0</td>\n",
              "      <td>bells</td>\n",
              "      <td>NaN</td>\n",
              "      <td>NaN</td>\n",
              "      <td>NaN</td>\n",
              "      <td>NaN</td>\n",
              "      <td>nh</td>\n",
              "      <td>item-crown</td>\n",
              "      <td>https://villagerdb.com/images/items/full/crown...</td>\n",
              "    </tr>\n",
              "    <tr>\n",
              "      <th>3392</th>\n",
              "      <td>5558</td>\n",
              "      <td>robot-hero</td>\n",
              "      <td>Robot Hero</td>\n",
              "      <td>Furniture</td>\n",
              "      <td>False</td>\n",
              "      <td>250000.0</td>\n",
              "      <td>bells</td>\n",
              "      <td>NaN</td>\n",
              "      <td>NaN</td>\n",
              "      <td>NaN</td>\n",
              "      <td>True</td>\n",
              "      <td>1.0</td>\n",
              "      <td>rocket</td>\n",
              "      <td>nh</td>\n",
              "      <td>item-robot-hero</td>\n",
              "      <td>https://villagerdb.com/images/items/thumb/robo...</td>\n",
              "    </tr>\n",
              "    <tr>\n",
              "      <th>3396</th>\n",
              "      <td>5558</td>\n",
              "      <td>robot-hero</td>\n",
              "      <td>Robot Hero</td>\n",
              "      <td>Furniture</td>\n",
              "      <td>False</td>\n",
              "      <td>250000.0</td>\n",
              "      <td>bells</td>\n",
              "      <td>NaN</td>\n",
              "      <td>NaN</td>\n",
              "      <td>NaN</td>\n",
              "      <td>True</td>\n",
              "      <td>10.0</td>\n",
              "      <td>gold-nugget</td>\n",
              "      <td>nh</td>\n",
              "      <td>item-robot-hero</td>\n",
              "      <td>https://villagerdb.com/images/items/thumb/robo...</td>\n",
              "    </tr>\n",
              "    <tr>\n",
              "      <th>...</th>\n",
              "      <td>...</td>\n",
              "      <td>...</td>\n",
              "      <td>...</td>\n",
              "      <td>...</td>\n",
              "      <td>...</td>\n",
              "      <td>...</td>\n",
              "      <td>...</td>\n",
              "      <td>...</td>\n",
              "      <td>...</td>\n",
              "      <td>...</td>\n",
              "      <td>...</td>\n",
              "      <td>...</td>\n",
              "      <td>...</td>\n",
              "      <td>...</td>\n",
              "      <td>...</td>\n",
              "      <td>...</td>\n",
              "    </tr>\n",
              "    <tr>\n",
              "      <th>4447</th>\n",
              "      <td>7259</td>\n",
              "      <td>wooden-bridge</td>\n",
              "      <td>Wooden Bridge</td>\n",
              "      <td>Furniture</td>\n",
              "      <td>NaN</td>\n",
              "      <td>NaN</td>\n",
              "      <td>NaN</td>\n",
              "      <td>168000.0</td>\n",
              "      <td>bells</td>\n",
              "      <td>NaN</td>\n",
              "      <td>NaN</td>\n",
              "      <td>NaN</td>\n",
              "      <td>NaN</td>\n",
              "      <td>nh</td>\n",
              "      <td>item-wooden-bridge</td>\n",
              "      <td>https://villagerdb.com/images/image-not-availa...</td>\n",
              "    </tr>\n",
              "    <tr>\n",
              "      <th>4462</th>\n",
              "      <td>7275</td>\n",
              "      <td>wooden-mailbox</td>\n",
              "      <td>Wooden Mailbox</td>\n",
              "      <td>Furniture</td>\n",
              "      <td>NaN</td>\n",
              "      <td>NaN</td>\n",
              "      <td>NaN</td>\n",
              "      <td>NaN</td>\n",
              "      <td>NaN</td>\n",
              "      <td>NaN</td>\n",
              "      <td>NaN</td>\n",
              "      <td>NaN</td>\n",
              "      <td>NaN</td>\n",
              "      <td>nh</td>\n",
              "      <td>item-wooden-mailbox</td>\n",
              "      <td>https://villagerdb.com/images/items/thumb/wood...</td>\n",
              "    </tr>\n",
              "    <tr>\n",
              "      <th>4474</th>\n",
              "      <td>7285</td>\n",
              "      <td>wooden-washtub</td>\n",
              "      <td>Wooden Washtub</td>\n",
              "      <td>Furniture</td>\n",
              "      <td>NaN</td>\n",
              "      <td>NaN</td>\n",
              "      <td>NaN</td>\n",
              "      <td>NaN</td>\n",
              "      <td>NaN</td>\n",
              "      <td>NaN</td>\n",
              "      <td>NaN</td>\n",
              "      <td>4.0</td>\n",
              "      <td>softwood</td>\n",
              "      <td>nh</td>\n",
              "      <td>item-wooden-washtub</td>\n",
              "      <td>https://villagerdb.com/images/items/thumb/wood...</td>\n",
              "    </tr>\n",
              "    <tr>\n",
              "      <th>4532</th>\n",
              "      <td>7376</td>\n",
              "      <td>yellow-tulip</td>\n",
              "      <td>Yellow Tulip</td>\n",
              "      <td>Flowers</td>\n",
              "      <td>NaN</td>\n",
              "      <td>NaN</td>\n",
              "      <td>NaN</td>\n",
              "      <td>NaN</td>\n",
              "      <td>NaN</td>\n",
              "      <td>Pick from flower which regrows (speculated)</td>\n",
              "      <td>NaN</td>\n",
              "      <td>NaN</td>\n",
              "      <td>NaN</td>\n",
              "      <td>nh</td>\n",
              "      <td>item-yellow-tulip</td>\n",
              "      <td>https://villagerdb.com/images/items/thumb/yell...</td>\n",
              "    </tr>\n",
              "    <tr>\n",
              "      <th>4552</th>\n",
              "      <td>7411</td>\n",
              "      <td>zen-bridge</td>\n",
              "      <td>Zen Bridge</td>\n",
              "      <td>Furniture</td>\n",
              "      <td>NaN</td>\n",
              "      <td>NaN</td>\n",
              "      <td>NaN</td>\n",
              "      <td>228000.0</td>\n",
              "      <td>bells</td>\n",
              "      <td>NaN</td>\n",
              "      <td>NaN</td>\n",
              "      <td>NaN</td>\n",
              "      <td>NaN</td>\n",
              "      <td>nh</td>\n",
              "      <td>item-zen-bridge</td>\n",
              "      <td>https://villagerdb.com/images/image-not-availa...</td>\n",
              "    </tr>\n",
              "  </tbody>\n",
              "</table>\n",
              "<p>4565 rows × 16 columns</p>\n",
              "</div>"
            ],
            "text/plain": [
              "      num_id  ...                                          image_url\n",
              "3453    5653  ...  https://villagerdb.com/images/items/full/royal...\n",
              "3394    5558  ...  https://villagerdb.com/images/items/thumb/robo...\n",
              "1028    1566  ...  https://villagerdb.com/images/items/full/crown...\n",
              "3392    5558  ...  https://villagerdb.com/images/items/thumb/robo...\n",
              "3396    5558  ...  https://villagerdb.com/images/items/thumb/robo...\n",
              "...      ...  ...                                                ...\n",
              "4447    7259  ...  https://villagerdb.com/images/image-not-availa...\n",
              "4462    7275  ...  https://villagerdb.com/images/items/thumb/wood...\n",
              "4474    7285  ...  https://villagerdb.com/images/items/thumb/wood...\n",
              "4532    7376  ...  https://villagerdb.com/images/items/thumb/yell...\n",
              "4552    7411  ...  https://villagerdb.com/images/image-not-availa...\n",
              "\n",
              "[4565 rows x 16 columns]"
            ]
          },
          "metadata": {
            "tags": []
          },
          "execution_count": 101
        }
      ]
    },
    {
      "cell_type": "code",
      "metadata": {
        "id": "VsR-CaDMSJI9",
        "colab_type": "code",
        "outputId": "5446a5e3-6b3e-49d3-ee62-6dafbe925cda",
        "colab": {
          "base_uri": "https://localhost:8080/",
          "height": 311
        }
      },
      "source": [
        "plt.bar(a, b)\n",
        "plt.xlim(0,4000)\n",
        "plt.ylim(0,2200)\n",
        "plt.xlabel('X name')\n",
        "plt.ylabel('Y name')\n",
        "plt.title('test')\n",
        "plt.legend(['A'])"
      ],
      "execution_count": 0,
      "outputs": [
        {
          "output_type": "execute_result",
          "data": {
            "text/plain": [
              "<matplotlib.legend.Legend at 0x7f9ec554c4a8>"
            ]
          },
          "metadata": {
            "tags": []
          },
          "execution_count": 107
        },
        {
          "output_type": "display_data",
          "data": {
            "image/png": "[encoded data removed]",
            "text/plain": [
              "<Figure size 432x288 with 1 Axes>"
            ]
          },
          "metadata": {
            "tags": [],
            "needs_background": "light"
          }
        }
      ]
    },
    {
      "cell_type": "code",
      "metadata": {
        "id": "qf8LTRPuSe6s",
        "colab_type": "code",
        "outputId": "a81845c3-11dd-438b-deea-f99045d6202e",
        "colab": {
          "base_uri": "https://localhost:8080/",
          "height": 292
        }
      },
      "source": [
        "plt.plot(a,b)"
      ],
      "execution_count": 0,
      "outputs": [
        {
          "output_type": "execute_result",
          "data": {
            "text/plain": [
              "[<matplotlib.lines.Line2D at 0x7f9ec2532550>]"
            ]
          },
          "metadata": {
            "tags": []
          },
          "execution_count": 108
        },
        {
          "output_type": "display_data",
          "data": {
            "image/png": "[encoded data removed]",
            "text/plain": [
              "<Figure size 432x288 with 1 Axes>"
            ]
          },
          "metadata": {
            "tags": [],
            "needs_background": "light"
          }
        }
      ]
    },
    {
      "cell_type": "code",
      "metadata": {
        "id": "NHMI7WLZWGdG",
        "colab_type": "code",
        "outputId": "520e1f86-f2a9-404f-f324-c17638f60c26",
        "colab": {
          "base_uri": "https://localhost:8080/",
          "height": 311
        }
      },
      "source": [
        "plt.barh(b, width=-0.4, color = 'red')\n",
        "plt.ylim(0,100000)\n",
        "plt.xlabel('X name')\n",
        "plt.ylabel('Y name')\n",
        "plt.title('test')\n",
        "plt.legend(['A'])"
      ],
      "execution_count": 0,
      "outputs": [
        {
          "output_type": "execute_result",
          "data": {
            "text/plain": [
              "<matplotlib.legend.Legend at 0x7f9ec2430fd0>"
            ]
          },
          "metadata": {
            "tags": []
          },
          "execution_count": 109
        },
        {
          "output_type": "display_data",
          "data": {
            "image/png": "[encoded data removed]",
            "text/plain": [
              "<Figure size 432x288 with 1 Axes>"
            ]
          },
          "metadata": {
            "tags": [],
            "needs_background": "light"
          }
        }
      ]
    },
    {
      "cell_type": "code",
      "metadata": {
        "id": "umdHUGdiWgco",
        "colab_type": "code",
        "outputId": "34948711-2d9b-4411-881a-e97b38530c61",
        "colab": {
          "base_uri": "https://localhost:8080/",
          "height": 311
        }
      },
      "source": [
        "plt.plot(a,b)\n",
        "plt.xlim(0,400000)\n",
        "plt.ylim(0,2000000)\n",
        "plt.xlabel('X name')\n",
        "plt.ylabel('Y name')\n",
        "plt.title('test')\n",
        "plt.legend(['A','b'])"
      ],
      "execution_count": 0,
      "outputs": [
        {
          "output_type": "execute_result",
          "data": {
            "text/plain": [
              "<matplotlib.legend.Legend at 0x7f9ebf5a53c8>"
            ]
          },
          "metadata": {
            "tags": []
          },
          "execution_count": 137
        },
        {
          "output_type": "display_data",
          "data": {
            "image/png": "[encoded data removed]",
            "text/plain": [
              "<Figure size 432x288 with 1 Axes>"
            ]
          },
          "metadata": {
            "tags": [],
            "needs_background": "light"
          }
        }
      ]
    }
  ]
}