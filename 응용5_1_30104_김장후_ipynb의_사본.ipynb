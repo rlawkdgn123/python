{
  "nbformat": 4,
  "nbformat_minor": 0,
  "metadata": {
    "colab": {
      "name": "응용5/1_30104_김장후.ipynb의 사본",
      "provenance": [],
      "collapsed_sections": [],
      "include_colab_link": true
    },
    "kernelspec": {
      "name": "python3",
      "display_name": "Python 3"
    }
  },
  "cells": [
    {
      "cell_type": "markdown",
      "metadata": {
        "id": "view-in-github",
        "colab_type": "text"
      },
      "source": [
        "<a href=\"https://colab.research.google.com/github/rlawkdgn123/python/blob/master/%EC%9D%91%EC%9A%A95_1_30104_%EA%B9%80%EC%9E%A5%ED%9B%84_ipynb%EC%9D%98_%EC%82%AC%EB%B3%B8.ipynb\" target=\"_parent\"><img src=\"https://colab.research.google.com/assets/colab-badge.svg\" alt=\"Open In Colab\"/></a>"
      ]
    },
    {
      "cell_type": "markdown",
      "metadata": {
        "id": "aA6rC-wPdiPJ",
        "colab_type": "text"
      },
      "source": [
        "# [연습문제1]\n",
        "\n",
        "*   학번은 위의 리스트 순으로 1부터 시작한다.\n",
        "*   60점 이상이면 합격, 그렇지 않으면 불합격\n",
        "\n",
        "*  다음 코드를 복사해서 부분을 완성하세요~\n",
        "\n",
        "```\n",
        "jumsu = [100, 75, 67, 45, 80]\n",
        "for i, val             ( ): # enumerate 사용\n",
        "    \n",
        "    if    >= 60: \n",
        "        print(\"  %  번 학생은 합격입니다.\"   %  )\n",
        "    \n",
        "        print(\"  %  번 학생은 불합격입니다.\"   %  )\n",
        "```\n",
        "[결과]\n",
        "#### 1번 학생은 합격입니다.\n",
        "#### 2번 학생은 합격입니다.\n",
        "#### 3번 학생은 합격입니다.\n",
        "#### 4번 학생은 불합격입니다.\n",
        "#### 5번 학생은 합격입니다.\n"
      ]
    },
    {
      "cell_type": "code",
      "metadata": {
        "id": "-Vti9aatiAeu",
        "colab_type": "code",
        "colab": {}
      },
      "source": [
        "# your code\n",
        "\n",
        "jumsu = [100, 75, 67, 45, 80]\n",
        "for i, val in enumerate (jumsu): # enumerate 사용\n",
        " \n",
        "    if    >= 60: \n",
        "        print(\"  %  번 학생은 합격입니다.\"   %  )\n",
        " \n",
        "        print(\"  %  번 학생은 불합격입니다.\"   %  )\n"
      ],
      "execution_count": 0,
      "outputs": []
    },
    {
      "cell_type": "markdown",
      "metadata": {
        "id": "qGILRNvgiuuF",
        "colab_type": "text"
      },
      "source": [
        "# [연습문제2]\n",
        "\n",
        "*   다음 예시와 같이 DataFrame을 만드세요\n",
        "*   지역, 병상, 확진자, 사망자(사례 5개만들기) 숫자는 자유\n",
        "*   다음 코드를 복사해서 부분을 완성하세요~\n",
        "*   [결과](https://drive.google.com/open?id=1tw09Avk3ir4DQuqFy8qdXGfIbZo5xMIy)"
      ]
    },
    {
      "cell_type": "code",
      "metadata": {
        "id": "nyvYrQU2kJW_",
        "colab_type": "code",
        "colab": {}
      },
      "source": [
        "import pandas as pd"
      ],
      "execution_count": 0,
      "outputs": []
    },
    {
      "cell_type": "code",
      "metadata": {
        "id": "9xuuQffNFVNQ",
        "colab_type": "code",
        "colab": {}
      },
      "source": [
        "gu = [['서울',100,23,5],['부산',120,30,1],['인천',120,40,6],['광주',40,1,20],['대전',70,20,2]]\n",
        "df=pd.DataFrame(gu)"
      ],
      "execution_count": 0,
      "outputs": []
    },
    {
      "cell_type": "code",
      "metadata": {
        "id": "FzoT5HBPkA9O",
        "colab_type": "code",
        "colab": {}
      },
      "source": [
        "df.colums=['지역','병상','확진자','사망자']\n",
        "df.index=[1,2,3,4,5]\n",
        "df"
      ],
      "execution_count": 0,
      "outputs": []
    },
    {
      "cell_type": "code",
      "metadata": {
        "id": "kL9OB8IXkOUg",
        "colab_type": "code",
        "outputId": "604c0219-3f8f-4e7c-b7f5-4ed624e08eea",
        "colab": {
          "base_uri": "https://localhost:8080/",
          "height": 202
        }
      },
      "source": [
        ""
      ],
      "execution_count": 0,
      "outputs": [
        {
          "output_type": "execute_result",
          "data": {
            "text/html": [
              "<div>\n",
              "<style scoped>\n",
              "    .dataframe tbody tr th:only-of-type {\n",
              "        vertical-align: middle;\n",
              "    }\n",
              "\n",
              "    .dataframe tbody tr th {\n",
              "        vertical-align: top;\n",
              "    }\n",
              "\n",
              "    .dataframe thead th {\n",
              "        text-align: right;\n",
              "    }\n",
              "</style>\n",
              "<table border=\"1\" class=\"dataframe\">\n",
              "  <thead>\n",
              "    <tr style=\"text-align: right;\">\n",
              "      <th></th>\n",
              "      <th>지역</th>\n",
              "      <th>병상</th>\n",
              "      <th>확진자</th>\n",
              "      <th>사망자</th>\n",
              "    </tr>\n",
              "  </thead>\n",
              "  <tbody>\n",
              "    <tr>\n",
              "      <th>1</th>\n",
              "      <td>인천</td>\n",
              "      <td>120</td>\n",
              "      <td>27</td>\n",
              "      <td>5</td>\n",
              "    </tr>\n",
              "    <tr>\n",
              "      <th>2</th>\n",
              "      <td>서울</td>\n",
              "      <td>210</td>\n",
              "      <td>301</td>\n",
              "      <td>11</td>\n",
              "    </tr>\n",
              "    <tr>\n",
              "      <th>3</th>\n",
              "      <td>경기</td>\n",
              "      <td>120</td>\n",
              "      <td>132</td>\n",
              "      <td>10</td>\n",
              "    </tr>\n",
              "    <tr>\n",
              "      <th>4</th>\n",
              "      <td>강원</td>\n",
              "      <td>24</td>\n",
              "      <td>21</td>\n",
              "      <td>7</td>\n",
              "    </tr>\n",
              "    <tr>\n",
              "      <th>5</th>\n",
              "      <td>제주</td>\n",
              "      <td>84</td>\n",
              "      <td>54</td>\n",
              "      <td>3</td>\n",
              "    </tr>\n",
              "  </tbody>\n",
              "</table>\n",
              "</div>"
            ],
            "text/plain": [
              "   지역   병상  확진자  사망자\n",
              "1  인천  120   27    5\n",
              "2  서울  210  301   11\n",
              "3  경기  120  132   10\n",
              "4  강원   24   21    7\n",
              "5  제주   84   54    3"
            ]
          },
          "metadata": {
            "tags": []
          },
          "execution_count": 30
        }
      ]
    }
  ]
}