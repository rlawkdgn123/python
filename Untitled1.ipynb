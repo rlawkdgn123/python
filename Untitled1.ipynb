{
  "nbformat": 4,
  "nbformat_minor": 0,
  "metadata": {
    "colab": {
      "name": "Untitled1.ipynb",
      "provenance": [],
      "collapsed_sections": [],
      "authorship_tag": "ABX9TyMWY7HYkEtBegBS9CRW7dCR",
      "include_colab_link": true
    },
    "kernelspec": {
      "name": "python3",
      "display_name": "Python 3"
    }
  },
  "cells": [
    {
      "cell_type": "markdown",
      "metadata": {
        "id": "view-in-github",
        "colab_type": "text"
      },
      "source": [
        "<a href=\"https://colab.research.google.com/github/rlawkdgn123/python/blob/master/Untitled1.ipynb\" target=\"_parent\"><img src=\"https://colab.research.google.com/assets/colab-badge.svg\" alt=\"Open In Colab\"/></a>"
      ]
    },
    {
      "cell_type": "code",
      "metadata": {
        "id": "0NduMdmz4LK0",
        "colab_type": "code",
        "colab": {
          "base_uri": "https://localhost:8080/",
          "height": 125
        },
        "outputId": "d3b448fa-ac61-4b04-92df-7277c4a4d988"
      },
      "source": [
        "a=3\n",
        "b=2\n",
        "print('a + b', a+b)\n",
        "print('a - b', a-b)\n",
        "print('a * b', a*b)\n",
        "print('a / b', a/b)\n",
        "print('a // b', a//b)\n",
        "print('a % b', a%b)"
      ],
      "execution_count": 10,
      "outputs": [
        {
          "output_type": "stream",
          "text": [
            "a + b 5\n",
            "a - b 1\n",
            "a * b 6\n",
            "a / b 1.5\n",
            "a // b 1\n",
            "a % b 1\n"
          ],
          "name": "stdout"
        }
      ]
    },
    {
      "cell_type": "markdown",
      "metadata": {
        "id": "C1QaWXEKIraR",
        "colab_type": "text"
      },
      "source": [
        "30104김장후"
      ]
    }
  ]
}