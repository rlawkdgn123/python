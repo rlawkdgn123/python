{
  "nbformat": 4,
  "nbformat_minor": 0,
  "metadata": {
    "colab": {
      "name": "Untitled1.ipynb",
      "provenance": [],
      "mount_file_id": "1-3KcP7cT1WLfPsDRYvKAQkeA-IxXnN-q",
      "authorship_tag": "ABX9TyMZELuOSBnyc//uu9sP+2S2",
      "include_colab_link": true
    },
    "kernelspec": {
      "name": "python3",
      "display_name": "Python 3"
    }
  },
  "cells": [
    {
      "cell_type": "markdown",
      "metadata": {
        "id": "view-in-github",
        "colab_type": "text"
      },
      "source": [
        "<a href=\"https://colab.research.google.com/github/rlawkdgn123/python/blob/master/Untitled1.ipynb\" target=\"_parent\"><img src=\"https://colab.research.google.com/assets/colab-badge.svg\" alt=\"Open In Colab\"/></a>"
      ]
    },
    {
      "cell_type": "code",
      "metadata": {
        "id": "AXXex-mYLCaL",
        "colab_type": "code",
        "colab": {}
      },
      "source": [
        "import pandas as pd\n",
        "path = '/content/drive/My Drive/0-Dream/Data/score/score/A 학교출신 지원자.csv'"
      ],
      "execution_count": 0,
      "outputs": []
    },
    {
      "cell_type": "code",
      "metadata": {
        "id": "c1h4IapONypb",
        "colab_type": "code",
        "colab": {
          "base_uri": "https://localhost:8080/",
          "height": 204
        },
        "outputId": "066e92f0-3a17-43b9-96a3-e082e1445f6b"
      },
      "source": [
        "df = pd.read_csv(path, encoding='cp949')\n",
        "df.head()"
      ],
      "execution_count": 13,
      "outputs": [
        {
          "output_type": "execute_result",
          "data": {
            "text/html": [
              "<div>\n",
              "<style scoped>\n",
              "    .dataframe tbody tr th:only-of-type {\n",
              "        vertical-align: middle;\n",
              "    }\n",
              "\n",
              "    .dataframe tbody tr th {\n",
              "        vertical-align: top;\n",
              "    }\n",
              "\n",
              "    .dataframe thead th {\n",
              "        text-align: right;\n",
              "    }\n",
              "</style>\n",
              "<table border=\"1\" class=\"dataframe\">\n",
              "  <thead>\n",
              "    <tr style=\"text-align: right;\">\n",
              "      <th></th>\n",
              "      <th>출신고교</th>\n",
              "      <th>학번</th>\n",
              "      <th>이름</th>\n",
              "      <th>국어</th>\n",
              "      <th>수학</th>\n",
              "      <th>영어</th>\n",
              "      <th>과탐1</th>\n",
              "      <th>과탐2</th>\n",
              "    </tr>\n",
              "  </thead>\n",
              "  <tbody>\n",
              "    <tr>\n",
              "      <th>0</th>\n",
              "      <td>A</td>\n",
              "      <td>30104</td>\n",
              "      <td>조매미</td>\n",
              "      <td>70</td>\n",
              "      <td>66</td>\n",
              "      <td>78</td>\n",
              "      <td>38</td>\n",
              "      <td>42</td>\n",
              "    </tr>\n",
              "    <tr>\n",
              "      <th>1</th>\n",
              "      <td>A</td>\n",
              "      <td>30115</td>\n",
              "      <td>김개미</td>\n",
              "      <td>71</td>\n",
              "      <td>77</td>\n",
              "      <td>89</td>\n",
              "      <td>15</td>\n",
              "      <td>20</td>\n",
              "    </tr>\n",
              "    <tr>\n",
              "      <th>2</th>\n",
              "      <td>A</td>\n",
              "      <td>30117</td>\n",
              "      <td>박모기</td>\n",
              "      <td>76</td>\n",
              "      <td>55</td>\n",
              "      <td>75</td>\n",
              "      <td>35</td>\n",
              "      <td>30</td>\n",
              "    </tr>\n",
              "    <tr>\n",
              "      <th>3</th>\n",
              "      <td>A</td>\n",
              "      <td>30120</td>\n",
              "      <td>최파리</td>\n",
              "      <td>69</td>\n",
              "      <td>66</td>\n",
              "      <td>51</td>\n",
              "      <td>15</td>\n",
              "      <td>36</td>\n",
              "    </tr>\n",
              "    <tr>\n",
              "      <th>4</th>\n",
              "      <td>A</td>\n",
              "      <td>30215</td>\n",
              "      <td>정땅벌</td>\n",
              "      <td>63</td>\n",
              "      <td>20</td>\n",
              "      <td>76</td>\n",
              "      <td>15</td>\n",
              "      <td>19</td>\n",
              "    </tr>\n",
              "  </tbody>\n",
              "</table>\n",
              "</div>"
            ],
            "text/plain": [
              "  출신고교     학번   이름  국어  수학  영어  과탐1  과탐2\n",
              "0    A  30104  조매미  70  66  78   38   42\n",
              "1    A  30115  김개미  71  77  89   15   20\n",
              "2    A  30117  박모기  76  55  75   35   30\n",
              "3    A  30120  최파리  69  66  51   15   36\n",
              "4    A  30215  정땅벌  63  20  76   15   19"
            ]
          },
          "metadata": {
            "tags": []
          },
          "execution_count": 13
        }
      ]
    },
    {
      "cell_type": "code",
      "metadata": {
        "id": "tjiLvP0_Oot7",
        "colab_type": "code",
        "colab": {
          "base_uri": "https://localhost:8080/",
          "height": 142
        },
        "outputId": "457e0e18-f85e-4bca-e139-6ff12bc2a86f"
      },
      "source": [
        "df.tail(3)"
      ],
      "execution_count": 14,
      "outputs": [
        {
          "output_type": "execute_result",
          "data": {
            "text/html": [
              "<div>\n",
              "<style scoped>\n",
              "    .dataframe tbody tr th:only-of-type {\n",
              "        vertical-align: middle;\n",
              "    }\n",
              "\n",
              "    .dataframe tbody tr th {\n",
              "        vertical-align: top;\n",
              "    }\n",
              "\n",
              "    .dataframe thead th {\n",
              "        text-align: right;\n",
              "    }\n",
              "</style>\n",
              "<table border=\"1\" class=\"dataframe\">\n",
              "  <thead>\n",
              "    <tr style=\"text-align: right;\">\n",
              "      <th></th>\n",
              "      <th>출신고교</th>\n",
              "      <th>학번</th>\n",
              "      <th>이름</th>\n",
              "      <th>국어</th>\n",
              "      <th>수학</th>\n",
              "      <th>영어</th>\n",
              "      <th>과탐1</th>\n",
              "      <th>과탐2</th>\n",
              "    </tr>\n",
              "  </thead>\n",
              "  <tbody>\n",
              "    <tr>\n",
              "      <th>26</th>\n",
              "      <td>A</td>\n",
              "      <td>30827</td>\n",
              "      <td>허대구</td>\n",
              "      <td>95</td>\n",
              "      <td>70</td>\n",
              "      <td>67</td>\n",
              "      <td>35</td>\n",
              "      <td>29</td>\n",
              "    </tr>\n",
              "    <tr>\n",
              "      <th>27</th>\n",
              "      <td>A</td>\n",
              "      <td>30901</td>\n",
              "      <td>유명태</td>\n",
              "      <td>87</td>\n",
              "      <td>69</td>\n",
              "      <td>96</td>\n",
              "      <td>37</td>\n",
              "      <td>40</td>\n",
              "    </tr>\n",
              "    <tr>\n",
              "      <th>28</th>\n",
              "      <td>A</td>\n",
              "      <td>30928</td>\n",
              "      <td>남동태</td>\n",
              "      <td>91</td>\n",
              "      <td>50</td>\n",
              "      <td>80</td>\n",
              "      <td>29</td>\n",
              "      <td>26</td>\n",
              "    </tr>\n",
              "  </tbody>\n",
              "</table>\n",
              "</div>"
            ],
            "text/plain": [
              "   출신고교     학번   이름  국어  수학  영어  과탐1  과탐2\n",
              "26    A  30827  허대구  95  70  67   35   29\n",
              "27    A  30901  유명태  87  69  96   37   40\n",
              "28    A  30928  남동태  91  50  80   29   26"
            ]
          },
          "metadata": {
            "tags": []
          },
          "execution_count": 14
        }
      ]
    },
    {
      "cell_type": "code",
      "metadata": {
        "id": "rZkaEsYtOyyQ",
        "colab_type": "code",
        "colab": {}
      },
      "source": [
        "df.info()"
      ],
      "execution_count": 0,
      "outputs": []
    },
    {
      "cell_type": "code",
      "metadata": {
        "id": "V6n-zM7gPsqg",
        "colab_type": "code",
        "colab": {}
      },
      "source": [
        "df['과탐1'].head()"
      ],
      "execution_count": 0,
      "outputs": []
    },
    {
      "cell_type": "code",
      "metadata": {
        "id": "otVNj0PoP03l",
        "colab_type": "code",
        "colab": {}
      },
      "source": [
        "df['과탐평균']=df['과탐1']*0.5+df['과탐2']+0.5\n",
        "df[['과탐평균']].head()"
      ],
      "execution_count": 0,
      "outputs": []
    },
    {
      "cell_type": "code",
      "metadata": {
        "id": "4CVgNAA2Qv_M",
        "colab_type": "code",
        "colab": {}
      },
      "source": [
        "df.head()"
      ],
      "execution_count": 0,
      "outputs": []
    },
    {
      "cell_type": "code",
      "metadata": {
        "id": "U6uGIBfzRGRi",
        "colab_type": "code",
        "colab": {}
      },
      "source": [
        "re = (lambda a: a+10)(1)\n",
        "re"
      ],
      "execution_count": 0,
      "outputs": []
    },
    {
      "cell_type": "code",
      "metadata": {
        "id": "Mb-dyiv8RQL6",
        "colab_type": "code",
        "colab": {
          "base_uri": "https://localhost:8080/",
          "height": 35
        },
        "outputId": "fbe23c56-83e2-40b5-bc19-234a38812e4d"
      },
      "source": [
        "a=[3,5,11,100]\n",
        "a"
      ],
      "execution_count": 24,
      "outputs": [
        {
          "output_type": "execute_result",
          "data": {
            "text/plain": [
              "[3, 5, 11, 100]"
            ]
          },
          "metadata": {
            "tags": []
          },
          "execution_count": 24
        }
      ]
    },
    {
      "cell_type": "code",
      "metadata": {
        "id": "CmUNs-cERYw_",
        "colab_type": "code",
        "colab": {
          "base_uri": "https://localhost:8080/",
          "height": 35
        },
        "outputId": "808ada93-61af-4a7c-93c5-1010cb9e69fd"
      },
      "source": [
        "max(a)"
      ],
      "execution_count": 25,
      "outputs": [
        {
          "output_type": "execute_result",
          "data": {
            "text/plain": [
              "100"
            ]
          },
          "metadata": {
            "tags": []
          },
          "execution_count": 25
        }
      ]
    },
    {
      "cell_type": "code",
      "metadata": {
        "id": "ZILjUl7nRdoe",
        "colab_type": "code",
        "colab": {
          "base_uri": "https://localhost:8080/",
          "height": 35
        },
        "outputId": "91c37f2d-b2e8-4d6f-ce3d-7ec870fb1ed7"
      },
      "source": [
        "f = lambda x,y : x+y\n",
        "f(5,10)"
      ],
      "execution_count": 26,
      "outputs": [
        {
          "output_type": "execute_result",
          "data": {
            "text/plain": [
              "15"
            ]
          },
          "metadata": {
            "tags": []
          },
          "execution_count": 26
        }
      ]
    },
    {
      "cell_type": "code",
      "metadata": {
        "id": "6R5BDJnnRpV1",
        "colab_type": "code",
        "colab": {
          "base_uri": "https://localhost:8080/",
          "height": 53
        },
        "outputId": "4d8451ca-66d7-4db6-9f0a-3d53609a8710"
      },
      "source": [
        "max_lam = (lambda a : max(a))\n",
        "print(a)\n",
        "max_lam(a)"
      ],
      "execution_count": 27,
      "outputs": [
        {
          "output_type": "stream",
          "text": [
            "[3, 5, 11, 100]\n"
          ],
          "name": "stdout"
        },
        {
          "output_type": "execute_result",
          "data": {
            "text/plain": [
              "100"
            ]
          },
          "metadata": {
            "tags": []
          },
          "execution_count": 27
        }
      ]
    },
    {
      "cell_type": "code",
      "metadata": {
        "id": "AIYJQnomSl0B",
        "colab_type": "code",
        "colab": {}
      },
      "source": [
        "df[['과탐1','과탐2']]"
      ],
      "execution_count": 0,
      "outputs": []
    },
    {
      "cell_type": "code",
      "metadata": {
        "id": "OZjxYk2LS7k5",
        "colab_type": "code",
        "colab": {}
      },
      "source": [
        "a=input('여러개 숫자입력>>> ').split()\n",
        "a, type(a__list)"
      ],
      "execution_count": 0,
      "outputs": []
    },
    {
      "cell_type": "code",
      "metadata": {
        "id": "oA1kCPsYTLP5",
        "colab_type": "code",
        "colab": {}
      },
      "source": [
        "list+map(int, a_list)\n",
        "list_num"
      ],
      "execution_count": 0,
      "outputs": []
    },
    {
      "cell_type": "code",
      "metadata": {
        "id": "7Dw0C51aUhM-",
        "colab_type": "code",
        "colab": {}
      },
      "source": [
        "df['과탐상위']df['과탐1',['과탐2']].apply(lambda a : max(a), axis=1)\n",
        "[['과탐상위']].head()"
      ],
      "execution_count": 0,
      "outputs": []
    },
    {
      "cell_type": "code",
      "metadata": {
        "id": "vTKneYhCVNA8",
        "colab_type": "code",
        "colab": {}
      },
      "source": [
        "df['변환점수']=df['국어']*0.2+df['수학']*0.4+(df['과탐1']*0.4+(df['과탐2'])*0.4)\n",
        "df[['변환점수']].head()"
      ],
      "execution_count": 0,
      "outputs": []
    },
    {
      "cell_type": "code",
      "metadata": {
        "id": "zMhm1NBfV9A4",
        "colab_type": "code",
        "colab": {}
      },
      "source": [
        "df.sort_values('변환점수',ascending=False).head(10)"
      ],
      "execution_count": 0,
      "outputs": []
    }
  ]
}